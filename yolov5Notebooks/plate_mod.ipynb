{
 "cells": [
  {
   "cell_type": "code",
   "execution_count": 1,
   "id": "e2861961",
   "metadata": {},
   "outputs": [],
   "source": [
    "import cv2\n",
    "import numpy as np\n",
    "import os"
   ]
  },
  {
   "cell_type": "code",
   "execution_count": 2,
   "id": "1ea02b36",
   "metadata": {},
   "outputs": [],
   "source": [
    "img = cv2.imread(r\"E:\\DataSets\\carPlatesDataset\\plates_dataset\\images\\train\\IMG_20220410_103930_0.jpg\", cv2.IMREAD_GRAYSCALE)"
   ]
  },
  {
   "cell_type": "code",
   "execution_count": 26,
   "id": "1c1fc110",
   "metadata": {},
   "outputs": [
    {
     "name": "stdout",
     "output_type": "stream",
     "text": [
      "(array([  0,   0,   0, ..., 338, 338, 338], dtype=int64), array([  0,   1,   2, ..., 281, 282, 283], dtype=int64))\n"
     ]
    },
    {
     "data": {
      "text/plain": [
       "-1"
      ]
     },
     "execution_count": 26,
     "metadata": {},
     "output_type": "execute_result"
    }
   ],
   "source": [
    "img = cv2.imread(r\"E:\\DataSets\\carPlatesDataset\\plates_dataset\\images\\train\\IMG_20220409_102424_0.jpg\", cv2.IMREAD_COLOR)\n",
    "thresh = 150\n",
    "blacks = np.where((img[:, :, 0] <= thresh) & (img[:, :, 1] <= thresh) & (img[:, :, 2] <= thresh))\n",
    "img[blacks] = [0]\n",
    "print(blacks)\n",
    "cv2.imshow(\"test\", img)\n",
    "#for i  in range(len(img[:int(0.385*len(img[:, 0]))])):\n",
    "    #img[i] = [255] * len(img[0, :])\n",
    "#(thresh, img) = cv2.threshold(img, 125.5, 255, cv2.THRESH_BINARY | cv2.THRESH_OTSU)\n",
    "#cv2.imshow(\"test\", img)\n",
    "cv2.waitKey(0)"
   ]
  },
  {
   "cell_type": "code",
   "execution_count": 43,
   "id": "ac59555d",
   "metadata": {},
   "outputs": [],
   "source": [
    "def filtered_img(img):\n",
    "    for i  in range(len(img[:int(0.385*len(img[:, 0]))])):\n",
    "        img[i] = [255] * len(img[0, :])\n",
    "    (thresh, img) = cv2.threshold(img, 125.5, 255, cv2.THRESH_BINARY | cv2.THRESH_OTSU)\n",
    "    return img"
   ]
  },
  {
   "cell_type": "code",
   "execution_count": 34,
   "id": "ee000ed7",
   "metadata": {},
   "outputs": [],
   "source": [
    "train_dir = r\"E:\\DataSets\\carPlatesDataset\\plates_dataset\\images\\train\"\n",
    "valid_dir = r\"E:\\DataSets\\carPlatesDataset\\plates_dataset\\images\\validation\"\n",
    "new_train_dir = r\"E:\\DataSets\\carPlatesDataset\\plates_dataset\\images\\train_mod\"\n",
    "new_valid_dir = r\"E:\\DataSets\\carPlatesDataset\\plates_dataset\\images\\validation_mod\"\n",
    "\n",
    "for img_name in os.listdir(valid_dir):\n",
    "    img = cv2.imread(os.path.join(valid_dir, img_name))\n",
    "    thresh = 75\n",
    "    pixels = np.where((img[:, :, 0] <= thresh), (img[:, :, 1] <= thresh), (img[:, :, 2] <= thresh))\n",
    "    blacks = np.where((img[:, :, 0] <= thresh) & (img[:, :, 1] <= thresh) & (img[:, :, 2] <= thresh))\n",
    "    img[blacks] = [0]\n",
    "    img[pixels] = [0]\n",
    "    #for i  in range(len(img[:int(0.385*len(img[:, 0]))])):\n",
    "        #img[i] = [255] * len(img[0, :])\n",
    "    #(thresh, img) = cv2.threshold(img, 125.5, 255, cv2.THRESH_BINARY | cv2.THRESH_OTSU)\n",
    "    cv2.imwrite(os.path.join(new_valid_dir, img_name), img)\n"
   ]
  },
  {
   "cell_type": "code",
   "execution_count": null,
   "id": "71472a43",
   "metadata": {},
   "outputs": [],
   "source": []
  }
 ],
 "metadata": {
  "kernelspec": {
   "display_name": "Python [conda env:pytorch]",
   "language": "python",
   "name": "conda-env-pytorch-py"
  },
  "language_info": {
   "codemirror_mode": {
    "name": "ipython",
    "version": 3
   },
   "file_extension": ".py",
   "mimetype": "text/x-python",
   "name": "python",
   "nbconvert_exporter": "python",
   "pygments_lexer": "ipython3",
   "version": "3.9.12"
  }
 },
 "nbformat": 4,
 "nbformat_minor": 5
}
