{
 "cells": [
  {
   "cell_type": "code",
   "execution_count": 1,
   "id": "ea542d87",
   "metadata": {},
   "outputs": [],
   "source": [
    "import os"
   ]
  },
  {
   "cell_type": "code",
   "execution_count": 16,
   "id": "f61a16c7",
   "metadata": {},
   "outputs": [
    {
     "name": "stdout",
     "output_type": "stream",
     "text": [
      "1002\n",
      "1002\n"
     ]
    }
   ],
   "source": [
    "train_img_dir = r\"E:\\DataSets\\carPlatesDataset\\cars_dataset\\images\\train\"\n",
    "train_label_dir = r\"E:\\DataSets\\carPlatesDataset\\cars_dataset\\labels\\train\"\n",
    "val_dir = r\"E:\\DataSets\\carPlatesDataset\\cars_dataset\\images\\validation\"\n",
    "t_img_names = [name[:-4] for name in os.listdir(train_dir)]\n",
    "t_label_names = [name[:-4] for name in os.listdir(train_label_dir)]\n",
    "\n",
    "print(len(t_img_names))\n",
    "print(len(t_label_names))"
   ]
  },
  {
   "cell_type": "code",
   "execution_count": 17,
   "id": "33ae11db",
   "metadata": {},
   "outputs": [
    {
     "name": "stdout",
     "output_type": "stream",
     "text": [
      "0\n"
     ]
    }
   ],
   "source": [
    "count = 0\n",
    "for name in t_img_names:\n",
    "    if name not in t_label_names:\n",
    "        os.remove(os.path.join(train_img_dir, f\"{name}.jpg\"))\n",
    "        count += 1\n",
    "print(count)"
   ]
  },
  {
   "cell_type": "code",
   "execution_count": null,
   "id": "9044d298",
   "metadata": {},
   "outputs": [],
   "source": []
  }
 ],
 "metadata": {
  "kernelspec": {
   "display_name": "Python [conda env:pytorch]",
   "language": "python",
   "name": "conda-env-pytorch-py"
  },
  "language_info": {
   "codemirror_mode": {
    "name": "ipython",
    "version": 3
   },
   "file_extension": ".py",
   "mimetype": "text/x-python",
   "name": "python",
   "nbconvert_exporter": "python",
   "pygments_lexer": "ipython3",
   "version": "3.9.12"
  }
 },
 "nbformat": 4,
 "nbformat_minor": 5
}
