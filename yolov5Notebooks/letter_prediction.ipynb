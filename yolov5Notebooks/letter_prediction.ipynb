{
 "cells": [
  {
   "cell_type": "code",
   "execution_count": 1,
   "id": "5f16a863",
   "metadata": {},
   "outputs": [],
   "source": [
    "import torch\n",
    "from PIL import Image\n",
    "import pandas as pd\n",
    "import os\n",
    "import time"
   ]
  },
  {
   "cell_type": "code",
   "execution_count": 17,
   "id": "b2b779c7",
   "metadata": {},
   "outputs": [
    {
     "name": "stderr",
     "output_type": "stream",
     "text": [
      "Using cache found in C:\\Users\\PC/.cache\\torch\\hub\\ultralytics_yolov5_master\n",
      "YOLOv5  2022-7-10 Python-3.9.12 torch-1.11.0 CUDA:0 (NVIDIA GeForce RTX 3060, 12288MiB)\n",
      "\n",
      "Fusing layers... \n",
      "YOLOv5s summary: 213 layers, 7012822 parameters, 0 gradients, 15.8 GFLOPs\n",
      "Adding AutoShape... \n"
     ]
    }
   ],
   "source": [
    "best_path = r\"C:\\Users\\PC\\Documents\\projects\\carPlates\\yolov5\\runs\\train\\exp35\\weights\\best.pt\"\n",
    "model = torch.hub.load('ultralytics/yolov5', 'custom', path=best_path)"
   ]
  },
  {
   "cell_type": "code",
   "execution_count": 3,
   "id": "4c07a2dd",
   "metadata": {},
   "outputs": [
    {
     "name": "stdout",
     "output_type": "stream",
     "text": [
      "0\n"
     ]
    }
   ],
   "source": [
    "train_path = r\"E:\\DataSets\\carPlatesDataset\\plates_dataset\\images\\train\"\n",
    "validation_path = r\"E:\\DataSets\\carPlatesDataset\\plates_dataset\\images\\validation\"\n",
    "test_path = r\"E:\\DataSets\\carPlatesDataset\\plates_dataset\\images\\test\"\n",
    "test_imgs = [name[:-4] for name in os.listdir(test_path)]\n",
    "train_imgs = [name[:-4] for name in os.listdir(train_path)]\n",
    "valid_imgs = [name[:-4] for name in os.listdir(validation_path)]\n",
    "\n",
    "count = 0\n",
    "for img in test_imgs:\n",
    "    if (img in train_imgs) or (img in valid_imgs):\n",
    "        count += 1\n",
    "        os.remove(os.path.join(test_path, f\"{img}.jpg\"))\n",
    "print(count)"
   ]
  },
  {
   "cell_type": "code",
   "execution_count": 4,
   "id": "78562c62",
   "metadata": {},
   "outputs": [
    {
     "data": {
      "text/plain": [
       "1691"
      ]
     },
     "execution_count": 4,
     "metadata": {},
     "output_type": "execute_result"
    }
   ],
   "source": [
    "test_paths = [os.path.join(test_path, img) for img in os.listdir(test_path)]\n",
    "valid_paths = [os.path.join(validation_path, img) for img in os.listdir(validation_path)]\n",
    "len(test_paths)"
   ]
  },
  {
   "cell_type": "code",
   "execution_count": 18,
   "id": "424c96e1",
   "metadata": {},
   "outputs": [
    {
     "name": "stdout",
     "output_type": "stream",
     "text": [
      "[tensor([[ 56.08013,  34.92001,  68.54478,  60.49033,   0.91084,   0.00000],\n",
      "        [ 10.26245,  31.28613,  22.46401,  59.00787,   0.90709,   0.00000],\n",
      "        [ 96.97778,  37.93176, 114.34328,  62.38424,   0.90574,   0.00000],\n",
      "        [ 41.75099,  34.22652,  53.11745,  59.83736,   0.90312,   0.00000],\n",
      "        [ 26.61317,  32.38103,  38.50745,  59.46298,   0.89397,   0.00000],\n",
      "        [ 76.36414,  41.56364,  95.25914,  60.50985,   0.87601,   0.00000],\n",
      "        [122.69279,  37.93533, 130.37805,  66.01933,   0.80881,   0.00000]], device='cuda:0')]\n",
      "0.015013456344604492\n"
     ]
    }
   ],
   "source": [
    "img_path = test_paths[1039]\n",
    "#img_path = valid_paths[17]\n",
    "#img_path = r\"E:\\DataSets\\carPlatesDataset\\plates_dataset\\images\\validation\\IMG_20220410_103030_0.jpg\"\n",
    "t1 = time.time()\n",
    "img = Image.open(img_path)\n",
    "#img = img.resize((1280, 1280))\n",
    "pred = model(img)\n",
    "t2 = time.time()\n",
    "pred.show()\n",
    "print(pred.xyxy)\n",
    "print(t2 - t1)\n"
   ]
  },
  {
   "cell_type": "code",
   "execution_count": null,
   "id": "3a51abf5",
   "metadata": {},
   "outputs": [],
   "source": []
  }
 ],
 "metadata": {
  "kernelspec": {
   "display_name": "Python [conda env:pytorch]",
   "language": "python",
   "name": "conda-env-pytorch-py"
  },
  "language_info": {
   "codemirror_mode": {
    "name": "ipython",
    "version": 3
   },
   "file_extension": ".py",
   "mimetype": "text/x-python",
   "name": "python",
   "nbconvert_exporter": "python",
   "pygments_lexer": "ipython3",
   "version": "3.9.12"
  }
 },
 "nbformat": 4,
 "nbformat_minor": 5
}
