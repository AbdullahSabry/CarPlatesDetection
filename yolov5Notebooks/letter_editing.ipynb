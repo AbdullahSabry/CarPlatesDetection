{
 "cells": [
  {
   "cell_type": "code",
   "execution_count": 23,
   "id": "0f58bcf4",
   "metadata": {},
   "outputs": [],
   "source": [
    "import os"
   ]
  },
  {
   "cell_type": "code",
   "execution_count": 24,
   "id": "29e64285",
   "metadata": {},
   "outputs": [
    {
     "name": "stdout",
     "output_type": "stream",
     "text": [
      "419\n",
      "419\n"
     ]
    }
   ],
   "source": [
    "train_dir = r\"E:\\DataSets\\carPlatesDataset\\plates_dataset\\images\\train\"\n",
    "validation_dir = r\"E:\\DataSets\\carPlatesDataset\\plates_dataset\\images\\validation\"\n",
    "train_labels = r\"E:\\DataSets\\carPlatesDataset\\plates_dataset\\labels\\train\"\n",
    "validation_labels = r\"E:\\DataSets\\carPlatesDataset\\plates_dataset\\labels\\validation\"\n",
    "\n",
    "train_images = [name[:-4] for name in os.listdir(train_dir)]\n",
    "valid_images = [name[:-4] for name in os.listdir(validation_dir)]\n",
    "train_labels = [name[:-4] for name in os.listdir(train_labels)]\n",
    "valid_labels = [name[:-4] for name in os.listdir(validation_labels)]\n",
    "print(len(train_images))\n",
    "print(len(train_labels))"
   ]
  },
  {
   "cell_type": "code",
   "execution_count": 25,
   "id": "56159c95",
   "metadata": {},
   "outputs": [
    {
     "name": "stdout",
     "output_type": "stream",
     "text": [
      "0\n"
     ]
    }
   ],
   "source": [
    "count = 0\n",
    "for file in valid_images:\n",
    "    if file in train_labels:\n",
    "        os.remove(os.path.join(validation_dir, f\"{file}.jpg\"))\n",
    "        count += 1\n",
    "print(count)"
   ]
  },
  {
   "cell_type": "code",
   "execution_count": 26,
   "id": "ae478890",
   "metadata": {},
   "outputs": [
    {
     "name": "stdout",
     "output_type": "stream",
     "text": [
      "0\n"
     ]
    }
   ],
   "source": [
    "count = 0\n",
    "for file in train_images:\n",
    "    if file not in train_labels:\n",
    "        os.remove(os.path.join(train_dir, f\"{file}.jpg\"))\n",
    "        count += 1\n",
    "print(count)"
   ]
  },
  {
   "cell_type": "code",
   "execution_count": null,
   "id": "ef42a57f",
   "metadata": {},
   "outputs": [],
   "source": []
  },
  {
   "cell_type": "code",
   "execution_count": 18,
   "id": "04b814e3",
   "metadata": {},
   "outputs": [],
   "source": [
    "count = 0\n",
    "for file in valid_images:\n",
    "    if file not in valid_labels:\n",
    "        os.remove(os.path.join(validation_dir, f\"{file}.jpg\"))\n",
    "        count += 1"
   ]
  },
  {
   "cell_type": "code",
   "execution_count": 19,
   "id": "94a9ea2d",
   "metadata": {},
   "outputs": [
    {
     "name": "stdout",
     "output_type": "stream",
     "text": [
      "1701\n"
     ]
    }
   ],
   "source": [
    "print(count)"
   ]
  },
  {
   "cell_type": "code",
   "execution_count": null,
   "id": "b0e83a36",
   "metadata": {},
   "outputs": [],
   "source": []
  }
 ],
 "metadata": {
  "kernelspec": {
   "display_name": "Python [conda env:pytorch]",
   "language": "python",
   "name": "conda-env-pytorch-py"
  },
  "language_info": {
   "codemirror_mode": {
    "name": "ipython",
    "version": 3
   },
   "file_extension": ".py",
   "mimetype": "text/x-python",
   "name": "python",
   "nbconvert_exporter": "python",
   "pygments_lexer": "ipython3",
   "version": "3.9.12"
  }
 },
 "nbformat": 4,
 "nbformat_minor": 5
}
