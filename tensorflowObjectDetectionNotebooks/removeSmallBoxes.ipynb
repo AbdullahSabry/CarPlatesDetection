{
 "cells": [
  {
   "cell_type": "code",
   "execution_count": 1,
   "id": "bd216f9f",
   "metadata": {},
   "outputs": [],
   "source": [
    "import pandas as pd\n",
    "import numpy as np"
   ]
  },
  {
   "cell_type": "code",
   "execution_count": 2,
   "id": "df9c7713",
   "metadata": {},
   "outputs": [],
   "source": [
    "data_path = \"data/on1000\"\n",
    "train_df = pd.read_csv(data_path + \"/all_train.csv\")\n",
    "test_df = pd.read_csv(data_path + \"/test_labels.csv\")"
   ]
  },
  {
   "cell_type": "code",
   "execution_count": 3,
   "id": "dab3ff29",
   "metadata": {},
   "outputs": [],
   "source": [
    "def remove_small_sizes(df):\n",
    "    to_remove = []\n",
    "    for i in range(len(df)):\n",
    "        x_size = abs(df['xmax'][i] - df['xmin'][i])\n",
    "        y_size = abs(df['ymax'][i] - df['ymin'][i])\n",
    "        if x_size * y_size < 30 * 60:\n",
    "            to_remove.append(i)\n",
    "    return df.drop(to_remove, axis = 0)"
   ]
  },
  {
   "cell_type": "code",
   "execution_count": 4,
   "id": "af5bb569",
   "metadata": {},
   "outputs": [
    {
     "data": {
      "text/html": [
       "<div>\n",
       "<style scoped>\n",
       "    .dataframe tbody tr th:only-of-type {\n",
       "        vertical-align: middle;\n",
       "    }\n",
       "\n",
       "    .dataframe tbody tr th {\n",
       "        vertical-align: top;\n",
       "    }\n",
       "\n",
       "    .dataframe thead th {\n",
       "        text-align: right;\n",
       "    }\n",
       "</style>\n",
       "<table border=\"1\" class=\"dataframe\">\n",
       "  <thead>\n",
       "    <tr style=\"text-align: right;\">\n",
       "      <th></th>\n",
       "      <th>filename</th>\n",
       "      <th>width</th>\n",
       "      <th>height</th>\n",
       "      <th>class</th>\n",
       "      <th>xmin</th>\n",
       "      <th>ymin</th>\n",
       "      <th>xmax</th>\n",
       "      <th>ymax</th>\n",
       "    </tr>\n",
       "  </thead>\n",
       "  <tbody>\n",
       "    <tr>\n",
       "      <th>0</th>\n",
       "      <td>E:\\DataSets\\carPlatesDataset\\raw\\IMG_20220411_...</td>\n",
       "      <td>4608</td>\n",
       "      <td>2112</td>\n",
       "      <td>plate</td>\n",
       "      <td>2640</td>\n",
       "      <td>857</td>\n",
       "      <td>2896</td>\n",
       "      <td>1009</td>\n",
       "    </tr>\n",
       "    <tr>\n",
       "      <th>1</th>\n",
       "      <td>E:\\DataSets\\carPlatesDataset\\raw\\IMG_20220411_...</td>\n",
       "      <td>4608</td>\n",
       "      <td>2112</td>\n",
       "      <td>plate</td>\n",
       "      <td>4315</td>\n",
       "      <td>578</td>\n",
       "      <td>4412</td>\n",
       "      <td>636</td>\n",
       "    </tr>\n",
       "    <tr>\n",
       "      <th>2</th>\n",
       "      <td>E:\\DataSets\\carPlatesDataset\\raw\\IMG_20220411_...</td>\n",
       "      <td>4608</td>\n",
       "      <td>2112</td>\n",
       "      <td>plate</td>\n",
       "      <td>1591</td>\n",
       "      <td>381</td>\n",
       "      <td>1660</td>\n",
       "      <td>424</td>\n",
       "    </tr>\n",
       "    <tr>\n",
       "      <th>7</th>\n",
       "      <td>E:\\DataSets\\carPlatesDataset\\raw\\IMG_20220410_...</td>\n",
       "      <td>4608</td>\n",
       "      <td>2112</td>\n",
       "      <td>plate</td>\n",
       "      <td>1631</td>\n",
       "      <td>462</td>\n",
       "      <td>1922</td>\n",
       "      <td>618</td>\n",
       "    </tr>\n",
       "    <tr>\n",
       "      <th>8</th>\n",
       "      <td>E:\\DataSets\\carPlatesDataset\\raw\\IMG_20220410_...</td>\n",
       "      <td>4608</td>\n",
       "      <td>2112</td>\n",
       "      <td>plate</td>\n",
       "      <td>852</td>\n",
       "      <td>332</td>\n",
       "      <td>1022</td>\n",
       "      <td>428</td>\n",
       "    </tr>\n",
       "  </tbody>\n",
       "</table>\n",
       "</div>"
      ],
      "text/plain": [
       "                                            filename  width  height  class  \\\n",
       "0  E:\\DataSets\\carPlatesDataset\\raw\\IMG_20220411_...   4608    2112  plate   \n",
       "1  E:\\DataSets\\carPlatesDataset\\raw\\IMG_20220411_...   4608    2112  plate   \n",
       "2  E:\\DataSets\\carPlatesDataset\\raw\\IMG_20220411_...   4608    2112  plate   \n",
       "7  E:\\DataSets\\carPlatesDataset\\raw\\IMG_20220410_...   4608    2112  plate   \n",
       "8  E:\\DataSets\\carPlatesDataset\\raw\\IMG_20220410_...   4608    2112  plate   \n",
       "\n",
       "   xmin  ymin  xmax  ymax  \n",
       "0  2640   857  2896  1009  \n",
       "1  4315   578  4412   636  \n",
       "2  1591   381  1660   424  \n",
       "7  1631   462  1922   618  \n",
       "8   852   332  1022   428  "
      ]
     },
     "execution_count": 4,
     "metadata": {},
     "output_type": "execute_result"
    }
   ],
   "source": [
    "new_train_df = remove_small_sizes(train_df)\n",
    "new_train_df = new_train_df.drop(\"Unnamed: 0\", axis = 1)\n",
    "new_train_df.head()"
   ]
  },
  {
   "cell_type": "code",
   "execution_count": 5,
   "id": "26cd4dff",
   "metadata": {},
   "outputs": [
    {
     "data": {
      "text/html": [
       "<div>\n",
       "<style scoped>\n",
       "    .dataframe tbody tr th:only-of-type {\n",
       "        vertical-align: middle;\n",
       "    }\n",
       "\n",
       "    .dataframe tbody tr th {\n",
       "        vertical-align: top;\n",
       "    }\n",
       "\n",
       "    .dataframe thead th {\n",
       "        text-align: right;\n",
       "    }\n",
       "</style>\n",
       "<table border=\"1\" class=\"dataframe\">\n",
       "  <thead>\n",
       "    <tr style=\"text-align: right;\">\n",
       "      <th></th>\n",
       "      <th>filename</th>\n",
       "      <th>width</th>\n",
       "      <th>height</th>\n",
       "      <th>class</th>\n",
       "      <th>xmin</th>\n",
       "      <th>ymin</th>\n",
       "      <th>xmax</th>\n",
       "      <th>ymax</th>\n",
       "    </tr>\n",
       "  </thead>\n",
       "  <tbody>\n",
       "    <tr>\n",
       "      <th>0</th>\n",
       "      <td>E:\\DataSets\\carPlatesDataset\\raw\\IMG_20220412_...</td>\n",
       "      <td>4608</td>\n",
       "      <td>2112</td>\n",
       "      <td>plate</td>\n",
       "      <td>872</td>\n",
       "      <td>596</td>\n",
       "      <td>948</td>\n",
       "      <td>637</td>\n",
       "    </tr>\n",
       "    <tr>\n",
       "      <th>1</th>\n",
       "      <td>E:\\DataSets\\carPlatesDataset\\raw\\IMG_20220412_...</td>\n",
       "      <td>4608</td>\n",
       "      <td>2112</td>\n",
       "      <td>plate</td>\n",
       "      <td>1580</td>\n",
       "      <td>649</td>\n",
       "      <td>1672</td>\n",
       "      <td>706</td>\n",
       "    </tr>\n",
       "    <tr>\n",
       "      <th>2</th>\n",
       "      <td>E:\\DataSets\\carPlatesDataset\\raw\\IMG_20220412_...</td>\n",
       "      <td>4608</td>\n",
       "      <td>2112</td>\n",
       "      <td>plate</td>\n",
       "      <td>2219</td>\n",
       "      <td>949</td>\n",
       "      <td>2397</td>\n",
       "      <td>1040</td>\n",
       "    </tr>\n",
       "    <tr>\n",
       "      <th>3</th>\n",
       "      <td>E:\\DataSets\\carPlatesDataset\\raw\\IMG_20220412_...</td>\n",
       "      <td>4608</td>\n",
       "      <td>2112</td>\n",
       "      <td>plate</td>\n",
       "      <td>1817</td>\n",
       "      <td>736</td>\n",
       "      <td>2014</td>\n",
       "      <td>854</td>\n",
       "    </tr>\n",
       "    <tr>\n",
       "      <th>4</th>\n",
       "      <td>E:\\DataSets\\carPlatesDataset\\raw\\IMG_20220412_...</td>\n",
       "      <td>4608</td>\n",
       "      <td>2112</td>\n",
       "      <td>plate</td>\n",
       "      <td>3203</td>\n",
       "      <td>494</td>\n",
       "      <td>3332</td>\n",
       "      <td>570</td>\n",
       "    </tr>\n",
       "  </tbody>\n",
       "</table>\n",
       "</div>"
      ],
      "text/plain": [
       "                                            filename  width  height  class  \\\n",
       "0  E:\\DataSets\\carPlatesDataset\\raw\\IMG_20220412_...   4608    2112  plate   \n",
       "1  E:\\DataSets\\carPlatesDataset\\raw\\IMG_20220412_...   4608    2112  plate   \n",
       "2  E:\\DataSets\\carPlatesDataset\\raw\\IMG_20220412_...   4608    2112  plate   \n",
       "3  E:\\DataSets\\carPlatesDataset\\raw\\IMG_20220412_...   4608    2112  plate   \n",
       "4  E:\\DataSets\\carPlatesDataset\\raw\\IMG_20220412_...   4608    2112  plate   \n",
       "\n",
       "   xmin  ymin  xmax  ymax  \n",
       "0   872   596   948   637  \n",
       "1  1580   649  1672   706  \n",
       "2  2219   949  2397  1040  \n",
       "3  1817   736  2014   854  \n",
       "4  3203   494  3332   570  "
      ]
     },
     "execution_count": 5,
     "metadata": {},
     "output_type": "execute_result"
    }
   ],
   "source": [
    "new_test_df = remove_small_sizes(test_df)\n",
    "new_test_df = new_test_df.drop(\"Unnamed: 0\", axis = 1)\n",
    "new_test_df.head()"
   ]
  },
  {
   "cell_type": "code",
   "execution_count": 6,
   "id": "9e4d9dd7",
   "metadata": {},
   "outputs": [],
   "source": [
    "new_train_df.to_csv(data_path + \"/all_train_mod.csv\")\n",
    "new_test_df.to_csv(data_path + \"/test_labels_mod.csv\" )"
   ]
  },
  {
   "cell_type": "code",
   "execution_count": 7,
   "id": "4660bba0",
   "metadata": {},
   "outputs": [
    {
     "name": "stdout",
     "output_type": "stream",
     "text": [
      "<class 'pandas.core.frame.DataFrame'>\n",
      "RangeIndex: 2944 entries, 0 to 2943\n",
      "Data columns (total 9 columns):\n",
      " #   Column      Non-Null Count  Dtype \n",
      "---  ------      --------------  ----- \n",
      " 0   Unnamed: 0  2944 non-null   int64 \n",
      " 1   filename    2944 non-null   object\n",
      " 2   width       2944 non-null   int64 \n",
      " 3   height      2944 non-null   int64 \n",
      " 4   class       2944 non-null   object\n",
      " 5   xmin        2944 non-null   int64 \n",
      " 6   ymin        2944 non-null   int64 \n",
      " 7   xmax        2944 non-null   int64 \n",
      " 8   ymax        2944 non-null   int64 \n",
      "dtypes: int64(7), object(2)\n",
      "memory usage: 207.1+ KB\n"
     ]
    }
   ],
   "source": [
    "train_df.info()"
   ]
  },
  {
   "cell_type": "code",
   "execution_count": 8,
   "id": "5dd9805d",
   "metadata": {},
   "outputs": [
    {
     "name": "stdout",
     "output_type": "stream",
     "text": [
      "<class 'pandas.core.frame.DataFrame'>\n",
      "Int64Index: 2186 entries, 0 to 2942\n",
      "Data columns (total 8 columns):\n",
      " #   Column    Non-Null Count  Dtype \n",
      "---  ------    --------------  ----- \n",
      " 0   filename  2186 non-null   object\n",
      " 1   width     2186 non-null   int64 \n",
      " 2   height    2186 non-null   int64 \n",
      " 3   class     2186 non-null   object\n",
      " 4   xmin      2186 non-null   int64 \n",
      " 5   ymin      2186 non-null   int64 \n",
      " 6   xmax      2186 non-null   int64 \n",
      " 7   ymax      2186 non-null   int64 \n",
      "dtypes: int64(6), object(2)\n",
      "memory usage: 153.7+ KB\n"
     ]
    }
   ],
   "source": [
    "new_train_df.info()"
   ]
  },
  {
   "cell_type": "code",
   "execution_count": 9,
   "id": "90899def",
   "metadata": {},
   "outputs": [
    {
     "name": "stdout",
     "output_type": "stream",
     "text": [
      "<class 'pandas.core.frame.DataFrame'>\n",
      "Int64Index: 117 entries, 0 to 160\n",
      "Data columns (total 8 columns):\n",
      " #   Column    Non-Null Count  Dtype \n",
      "---  ------    --------------  ----- \n",
      " 0   filename  117 non-null    object\n",
      " 1   width     117 non-null    int64 \n",
      " 2   height    117 non-null    int64 \n",
      " 3   class     117 non-null    object\n",
      " 4   xmin      117 non-null    int64 \n",
      " 5   ymin      117 non-null    int64 \n",
      " 6   xmax      117 non-null    int64 \n",
      " 7   ymax      117 non-null    int64 \n",
      "dtypes: int64(6), object(2)\n",
      "memory usage: 8.2+ KB\n"
     ]
    }
   ],
   "source": [
    "new_test_df.info()"
   ]
  },
  {
   "cell_type": "code",
   "execution_count": null,
   "id": "207dd618",
   "metadata": {},
   "outputs": [],
   "source": []
  }
 ],
 "metadata": {
  "kernelspec": {
   "display_name": "Python 3",
   "language": "python",
   "name": "python3"
  },
  "language_info": {
   "codemirror_mode": {
    "name": "ipython",
    "version": 3
   },
   "file_extension": ".py",
   "mimetype": "text/x-python",
   "name": "python",
   "nbconvert_exporter": "python",
   "pygments_lexer": "ipython3",
   "version": "3.8.8"
  }
 },
 "nbformat": 4,
 "nbformat_minor": 5
}
