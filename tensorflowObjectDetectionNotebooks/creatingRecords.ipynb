{
 "cells": [
  {
   "cell_type": "markdown",
   "id": "b2682e33",
   "metadata": {},
   "source": [
    "## Generating Train Record"
   ]
  },
  {
   "cell_type": "code",
   "execution_count": 1,
   "id": "f5991019",
   "metadata": {},
   "outputs": [
    {
     "name": "stdout",
     "output_type": "stream",
     "text": [
      "Successfully created the TFRecords: E:\\\\DataSets\\\\carPlatesDataset\\\\TFRecords\\\\letters420\\\\train.record\n"
     ]
    }
   ],
   "source": [
    "!python models/generate_tfrecord.py --csv_input=C:\\\\Users\\\\PC\\\\Documents\\\\projects\\\\carPlates\\\\data\\\\letters420\\\\train_labels.csv  --output_path=E:\\\\DataSets\\\\carPlatesDataset\\\\TFRecords\\\\letters420\\\\train.record"
   ]
  },
  {
   "cell_type": "markdown",
   "id": "eb56beaf",
   "metadata": {},
   "source": [
    "## Generating Test Record"
   ]
  },
  {
   "cell_type": "code",
   "execution_count": 4,
   "id": "9c9385de",
   "metadata": {},
   "outputs": [
    {
     "name": "stdout",
     "output_type": "stream",
     "text": [
      "Successfully created the TFRecords: E:\\\\DataSets\\\\carPlatesDataset\\\\TFRecords\\\\using1000\\\\test_mod.record\n"
     ]
    }
   ],
   "source": [
    "!python models/generate_tfrecord.py --csv_input=C:\\\\Users\\\\PC\\\\Documents\\\\projects\\\\carPlates\\\\data\\\\on1000\\\\test_labels_mod.csv  --output_path=E:\\\\DataSets\\\\carPlatesDataset\\\\TFRecords\\\\using1000\\\\test_mod.record"
   ]
  },
  {
   "cell_type": "code",
   "execution_count": null,
   "id": "45d28026",
   "metadata": {},
   "outputs": [],
   "source": []
  }
 ],
 "metadata": {
  "kernelspec": {
   "display_name": "Python 3",
   "language": "python",
   "name": "python3"
  },
  "language_info": {
   "codemirror_mode": {
    "name": "ipython",
    "version": 3
   },
   "file_extension": ".py",
   "mimetype": "text/x-python",
   "name": "python",
   "nbconvert_exporter": "python",
   "pygments_lexer": "ipython3",
   "version": "3.8.8"
  }
 },
 "nbformat": 4,
 "nbformat_minor": 5
}
