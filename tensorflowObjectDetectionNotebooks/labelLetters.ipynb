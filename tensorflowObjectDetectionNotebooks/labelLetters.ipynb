{
 "cells": [
  {
   "cell_type": "code",
   "execution_count": 1,
   "id": "3df2b59f",
   "metadata": {},
   "outputs": [],
   "source": [
    "import pandas as pd\n",
    "from PIL import Image\n",
    "import numpy as np\n",
    "import os\n",
    "import matplotlib.pyplot as plt\n",
    "import cv2\n",
    "from IPython.display import clear_output"
   ]
  },
  {
   "cell_type": "code",
   "execution_count": 2,
   "id": "c2dc7adb",
   "metadata": {},
   "outputs": [],
   "source": [
    "letter_dir = r\"E:\\DataSets\\carPlatesDataset\\raw_letters\\letters420\"\n",
    "df_dir = \"data/letters420/letter_labels.csv\""
   ]
  },
  {
   "cell_type": "code",
   "execution_count": 3,
   "id": "43903f13",
   "metadata": {},
   "outputs": [],
   "source": [
    "df = pd.DataFrame(columns = [\"filename\", 'path', 'label'])\n",
    "df['filename'] = os.listdir(letter_dir)\n",
    "df['path'] = [os.path.join(letter_dir, name) for name in os.listdir(letter_dir)]"
   ]
  },
  {
   "cell_type": "code",
   "execution_count": 4,
   "id": "c5bb2427",
   "metadata": {},
   "outputs": [],
   "source": [
    "df = pd.read_csv(df_dir)"
   ]
  },
  {
   "cell_type": "code",
   "execution_count": 7,
   "id": "919573ad",
   "metadata": {},
   "outputs": [],
   "source": [
    "df = df.drop(\"Unnamed: 0\", axis = 1)"
   ]
  },
  {
   "cell_type": "code",
   "execution_count": 8,
   "id": "b17db6ca",
   "metadata": {},
   "outputs": [
    {
     "data": {
      "text/html": [
       "<div>\n",
       "<style scoped>\n",
       "    .dataframe tbody tr th:only-of-type {\n",
       "        vertical-align: middle;\n",
       "    }\n",
       "\n",
       "    .dataframe tbody tr th {\n",
       "        vertical-align: top;\n",
       "    }\n",
       "\n",
       "    .dataframe thead th {\n",
       "        text-align: right;\n",
       "    }\n",
       "</style>\n",
       "<table border=\"1\" class=\"dataframe\">\n",
       "  <thead>\n",
       "    <tr style=\"text-align: right;\">\n",
       "      <th></th>\n",
       "      <th>filename</th>\n",
       "      <th>path</th>\n",
       "      <th>label</th>\n",
       "    </tr>\n",
       "  </thead>\n",
       "  <tbody>\n",
       "    <tr>\n",
       "      <th>0</th>\n",
       "      <td>IMG_20220330_121505_0_0.jpg</td>\n",
       "      <td>E:\\DataSets\\carPlatesDataset\\raw_letters\\lette...</td>\n",
       "      <td>ي</td>\n",
       "    </tr>\n",
       "    <tr>\n",
       "      <th>1</th>\n",
       "      <td>IMG_20220330_121505_0_1.jpg</td>\n",
       "      <td>E:\\DataSets\\carPlatesDataset\\raw_letters\\lette...</td>\n",
       "      <td>ر</td>\n",
       "    </tr>\n",
       "    <tr>\n",
       "      <th>2</th>\n",
       "      <td>IMG_20220330_121505_0_2.jpg</td>\n",
       "      <td>E:\\DataSets\\carPlatesDataset\\raw_letters\\lette...</td>\n",
       "      <td>ا</td>\n",
       "    </tr>\n",
       "    <tr>\n",
       "      <th>3</th>\n",
       "      <td>IMG_20220330_121505_0_3.jpg</td>\n",
       "      <td>E:\\DataSets\\carPlatesDataset\\raw_letters\\lette...</td>\n",
       "      <td>7</td>\n",
       "    </tr>\n",
       "    <tr>\n",
       "      <th>4</th>\n",
       "      <td>IMG_20220330_121505_0_4.jpg</td>\n",
       "      <td>E:\\DataSets\\carPlatesDataset\\raw_letters\\lette...</td>\n",
       "      <td>2</td>\n",
       "    </tr>\n",
       "  </tbody>\n",
       "</table>\n",
       "</div>"
      ],
      "text/plain": [
       "                      filename  \\\n",
       "0  IMG_20220330_121505_0_0.jpg   \n",
       "1  IMG_20220330_121505_0_1.jpg   \n",
       "2  IMG_20220330_121505_0_2.jpg   \n",
       "3  IMG_20220330_121505_0_3.jpg   \n",
       "4  IMG_20220330_121505_0_4.jpg   \n",
       "\n",
       "                                                path label  \n",
       "0  E:\\DataSets\\carPlatesDataset\\raw_letters\\lette...     ي  \n",
       "1  E:\\DataSets\\carPlatesDataset\\raw_letters\\lette...     ر  \n",
       "2  E:\\DataSets\\carPlatesDataset\\raw_letters\\lette...     ا  \n",
       "3  E:\\DataSets\\carPlatesDataset\\raw_letters\\lette...     7  \n",
       "4  E:\\DataSets\\carPlatesDataset\\raw_letters\\lette...     2  "
      ]
     },
     "execution_count": 8,
     "metadata": {},
     "output_type": "execute_result"
    }
   ],
   "source": [
    "df.head()"
   ]
  },
  {
   "cell_type": "code",
   "execution_count": 9,
   "id": "7a148888",
   "metadata": {},
   "outputs": [
    {
     "name": "stdout",
     "output_type": "stream",
     "text": [
      "<class 'pandas.core.frame.DataFrame'>\n",
      "RangeIndex: 2560 entries, 0 to 2559\n",
      "Data columns (total 3 columns):\n",
      " #   Column    Non-Null Count  Dtype \n",
      "---  ------    --------------  ----- \n",
      " 0   filename  2560 non-null   object\n",
      " 1   path      2560 non-null   object\n",
      " 2   label     1292 non-null   object\n",
      "dtypes: object(3)\n",
      "memory usage: 60.1+ KB\n"
     ]
    }
   ],
   "source": [
    "df.info()"
   ]
  },
  {
   "cell_type": "code",
   "execution_count": 16,
   "id": "68510ce0",
   "metadata": {},
   "outputs": [],
   "source": [
    "starting_index = 0\n",
    "flag = 0\n",
    "while flag == 0:\n",
    "    if not pd.isnull(df['label'][starting_index]):\n",
    "        starting_index += 1\n",
    "    else:\n",
    "        flag = 1"
   ]
  },
  {
   "cell_type": "code",
   "execution_count": 17,
   "id": "9327e071",
   "metadata": {},
   "outputs": [
    {
     "data": {
      "text/plain": [
       "1639"
      ]
     },
     "execution_count": 17,
     "metadata": {},
     "output_type": "execute_result"
    }
   ],
   "source": [
    "starting_index"
   ]
  },
  {
   "cell_type": "code",
   "execution_count": 18,
   "id": "1d08efaf",
   "metadata": {},
   "outputs": [
    {
     "name": "stdout",
     "output_type": "stream",
     "text": [
      "at image 2560 out of 2560\n"
     ]
    },
    {
     "data": {
      "image/png": "[encoded data removed]",
      "text/plain": [
       "<Figure size 432x288 with 1 Axes>"
      ]
     },
     "metadata": {
      "needs_background": "light"
     },
     "output_type": "display_data"
    },
    {
     "name": "stdout",
     "output_type": "stream",
     "text": [
      "Enter letter3\n"
     ]
    }
   ],
   "source": [
    "inp = str\n",
    "i = starting_index\n",
    "while inp != \"q\" and i != len(df):\n",
    "    clear_output()\n",
    "    print(f\"at image {i+1} out of {len(df)}\")\n",
    "    img = cv2.imread(df[\"path\"][i])\n",
    "    plt.imshow(img)\n",
    "    plt.show()\n",
    "    inp = input(\"Enter letter\")\n",
    "    if inp == \"q\":\n",
    "        break\n",
    "    if inp == \"b\":\n",
    "        i -=1\n",
    "        continue\n",
    "    if inp == \" \":\n",
    "        i+= 1\n",
    "        continue\n",
    "    df.to_csv(df_dir)\n",
    "    df['label'][i] = inp\n",
    "    i += 1"
   ]
  },
  {
   "cell_type": "code",
   "execution_count": 19,
   "id": "0236ac7c",
   "metadata": {},
   "outputs": [
    {
     "data": {
      "text/plain": [
       "27"
      ]
     },
     "execution_count": 19,
     "metadata": {},
     "output_type": "execute_result"
    }
   ],
   "source": [
    "len(set(df['label']))"
   ]
  },
  {
   "cell_type": "code",
   "execution_count": 20,
   "id": "62fc1675",
   "metadata": {},
   "outputs": [
    {
     "data": {
      "text/plain": [
       "5    186\n",
       "9    182\n",
       "7    178\n",
       "4    168\n",
       "3    162\n",
       "6    161\n",
       "8    159\n",
       "2    159\n",
       "1    143\n",
       "0     96\n",
       "ق     85\n",
       "ر     80\n",
       "ا     78\n",
       "و     70\n",
       "ع     65\n",
       "ه     64\n",
       "ل     60\n",
       "ط     53\n",
       "ي     52\n",
       "ج     52\n",
       "ف     49\n",
       "ن     48\n",
       "س     48\n",
       "د     43\n",
       "م     42\n",
       "ص     40\n",
       "ب     37\n",
       "Name: label, dtype: int64"
      ]
     },
     "execution_count": 20,
     "metadata": {},
     "output_type": "execute_result"
    }
   ],
   "source": [
    "df['label'].value_counts()"
   ]
  },
  {
   "cell_type": "code",
   "execution_count": 21,
   "id": "978515f7",
   "metadata": {},
   "outputs": [],
   "source": [
    "g = 0\n",
    "for item in df['label'][:i]:\n",
    "    if len(item)>1:\n",
    "        print(g)\n",
    "    g += 1"
   ]
  },
  {
   "cell_type": "code",
   "execution_count": 22,
   "id": "d2192992",
   "metadata": {},
   "outputs": [
    {
     "data": {
      "text/plain": [
       "'ع'"
      ]
     },
     "execution_count": 22,
     "metadata": {},
     "output_type": "execute_result"
    }
   ],
   "source": [
    "df['label'][13]"
   ]
  },
  {
   "cell_type": "code",
   "execution_count": 23,
   "id": "de8d0058",
   "metadata": {},
   "outputs": [],
   "source": [
    "df.to_csv(df_dir)"
   ]
  },
  {
   "cell_type": "code",
   "execution_count": 26,
   "id": "057bc189",
   "metadata": {},
   "outputs": [
    {
     "data": {
      "text/plain": [
       "(28, 28, 3)"
      ]
     },
     "execution_count": 26,
     "metadata": {},
     "output_type": "execute_result"
    }
   ],
   "source": [
    "(28, 28) + (3,)"
   ]
  },
  {
   "cell_type": "code",
   "execution_count": null,
   "id": "1d08ded1",
   "metadata": {},
   "outputs": [],
   "source": []
  }
 ],
 "metadata": {
  "kernelspec": {
   "display_name": "Python 3",
   "language": "python",
   "name": "python3"
  },
  "language_info": {
   "codemirror_mode": {
    "name": "ipython",
    "version": 3
   },
   "file_extension": ".py",
   "mimetype": "text/x-python",
   "name": "python",
   "nbconvert_exporter": "python",
   "pygments_lexer": "ipython3",
   "version": "3.8.8"
  }
 },
 "nbformat": 4,
 "nbformat_minor": 5
}
