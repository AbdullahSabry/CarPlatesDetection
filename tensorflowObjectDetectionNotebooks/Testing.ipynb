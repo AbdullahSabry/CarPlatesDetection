{
 "cells": [
  {
   "cell_type": "markdown",
   "id": "093e5b14",
   "metadata": {},
   "source": [
    "python models/model_main_tf2.py --model_dir=models/platesModel --pipeline_config_path=models/platesModel/pipeline.config --checkpoint_dir=models/platesModel"
   ]
  }
 ],
 "metadata": {
  "kernelspec": {
   "display_name": "Python 3",
   "language": "python",
   "name": "python3"
  },
  "language_info": {
   "codemirror_mode": {
    "name": "ipython",
    "version": 3
   },
   "file_extension": ".py",
   "mimetype": "text/x-python",
   "name": "python",
   "nbconvert_exporter": "python",
   "pygments_lexer": "ipython3",
   "version": "3.8.8"
  }
 },
 "nbformat": 4,
 "nbformat_minor": 5
}
