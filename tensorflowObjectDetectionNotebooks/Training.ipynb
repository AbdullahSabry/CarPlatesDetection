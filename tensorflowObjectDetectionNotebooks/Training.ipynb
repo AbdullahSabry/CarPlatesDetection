{
 "cells": [
  {
   "cell_type": "markdown",
   "id": "36f1d459",
   "metadata": {},
   "source": [
    "python models/model_main_tf2.py --model_dir=C:\\Users\\PC\\Documents\\projects\\carPlates\\models\\platesModel --pipeline_config_path=C:\\Users\\PC\\Documents\\projects\\carPlates\\models\\platesModel\\pipeline.config"
   ]
  },
  {
   "cell_type": "markdown",
   "id": "950845a0",
   "metadata": {},
   "source": [
    "python models/model_main_tf2.py --model_dir=C:\\Users\\PC\\Documents\\projects\\carPlates\\models\\lettersModel --pipeline_config_path=C:\\Users\\PC\\Documents\\projects\\carPlates\\models\\lettersModel\\pipeline.config\n"
   ]
  },
  {
   "cell_type": "markdown",
   "id": "81b0750f",
   "metadata": {},
   "source": [
    "python models/model_main_tf2.py --model_dir=C:\\Users\\PC\\Documents\\projects\\carPlates\\models\\platesModel_light --pipeline_config_path=C:\\Users\\PC\\Documents\\projects\\carPlates\\models\\platesModel_light\\pipeline.config"
   ]
  },
  {
   "cell_type": "markdown",
   "id": "9c2bcbaa",
   "metadata": {},
   "source": [
    "python models/model_main_tf2.py --model_dir=C:\\Users\\PC\\Documents\\projects\\carPlates\\models\\letterModel_light --pipeline_config_path=C:\\Users\\PC\\Documents\\projects\\carPlates\\models\\letterModel_light\\pipeline.config"
   ]
  },
  {
   "cell_type": "code",
   "execution_count": null,
   "id": "c96b8c8b",
   "metadata": {},
   "outputs": [],
   "source": []
  }
 ],
 "metadata": {
  "kernelspec": {
   "display_name": "Python 3",
   "language": "python",
   "name": "python3"
  },
  "language_info": {
   "codemirror_mode": {
    "name": "ipython",
    "version": 3
   },
   "file_extension": ".py",
   "mimetype": "text/x-python",
   "name": "python",
   "nbconvert_exporter": "python",
   "pygments_lexer": "ipython3",
   "version": "3.8.8"
  }
 },
 "nbformat": 4,
 "nbformat_minor": 5
}
